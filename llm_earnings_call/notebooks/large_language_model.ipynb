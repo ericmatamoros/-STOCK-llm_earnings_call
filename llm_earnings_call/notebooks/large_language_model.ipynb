{
 "cells": [
  {
   "cell_type": "code",
   "execution_count": 3,
   "metadata": {},
   "outputs": [],
   "source": [
    "import os\n",
    "import pickle\n",
    "import numpy as np\n",
    "\n",
    "os.chdir(os.getcwd() + \"/../../\")\n",
    "from llm_earnings_call import DATA_PATH\n",
    "from llm_earnings_call.interfaces import CFOSearcher, ChatGPTPrompter\n",
    "from llm_earnings_call.settings import Settings "
   ]
  },
  {
   "attachments": {},
   "cell_type": "markdown",
   "metadata": {},
   "source": [
    "Load data"
   ]
  },
  {
   "cell_type": "code",
   "execution_count": 4,
   "metadata": {},
   "outputs": [],
   "source": [
    "settings = Settings()\n",
    "# Open the pickle file for reading in binary mode\n",
    "with open(DATA_PATH / 'main_df_earnings.pkl', 'rb') as file:\n",
    "    # Load the data from the pickle file\n",
    "    df = pickle.load(file)"
   ]
  },
  {
   "attachments": {},
   "cell_type": "markdown",
   "metadata": {},
   "source": [
    "Obtain CFO interventions"
   ]
  },
  {
   "cell_type": "code",
   "execution_count": 5,
   "metadata": {},
   "outputs": [
    {
     "data": {
      "text/html": [
       "<div>\n",
       "<style scoped>\n",
       "    .dataframe tbody tr th:only-of-type {\n",
       "        vertical-align: middle;\n",
       "    }\n",
       "\n",
       "    .dataframe tbody tr th {\n",
       "        vertical-align: top;\n",
       "    }\n",
       "\n",
       "    .dataframe thead th {\n",
       "        text-align: right;\n",
       "    }\n",
       "</style>\n",
       "<table border=\"1\" class=\"dataframe\">\n",
       "  <thead>\n",
       "    <tr style=\"text-align: right;\">\n",
       "      <th></th>\n",
       "      <th>ticker</th>\n",
       "      <th>date</th>\n",
       "      <th>close</th>\n",
       "      <th>volume</th>\n",
       "      <th>earnings_date</th>\n",
       "      <th>quarter</th>\n",
       "      <th>year</th>\n",
       "      <th>content_earnings_call</th>\n",
       "    </tr>\n",
       "  </thead>\n",
       "  <tbody>\n",
       "    <tr>\n",
       "      <th>32</th>\n",
       "      <td>A</td>\n",
       "      <td>2020-02-19</td>\n",
       "      <td>85.349998</td>\n",
       "      <td>4741300.0</td>\n",
       "      <td>2020-05-29</td>\n",
       "      <td>1.0</td>\n",
       "      <td>2020.0</td>\n",
       "      <td>Operator: Good afternoon and welcome to the Ag...</td>\n",
       "    </tr>\n",
       "    <tr>\n",
       "      <th>98</th>\n",
       "      <td>A</td>\n",
       "      <td>2020-05-22</td>\n",
       "      <td>84.980003</td>\n",
       "      <td>5063100.0</td>\n",
       "      <td>2020-09-01</td>\n",
       "      <td>2.0</td>\n",
       "      <td>2020.0</td>\n",
       "      <td>Operator: Good afternoon, and welcome to the A...</td>\n",
       "    </tr>\n",
       "    <tr>\n",
       "      <th>159</th>\n",
       "      <td>A</td>\n",
       "      <td>2020-08-19</td>\n",
       "      <td>97.959999</td>\n",
       "      <td>2830800.0</td>\n",
       "      <td>2020-12-17</td>\n",
       "      <td>3.0</td>\n",
       "      <td>2020.0</td>\n",
       "      <td>Operator: Good afternoon, and welcome to the A...</td>\n",
       "    </tr>\n",
       "  </tbody>\n",
       "</table>\n",
       "</div>"
      ],
      "text/plain": [
       "    ticker        date      close     volume earnings_date  quarter    year  \\\n",
       "32       A  2020-02-19  85.349998  4741300.0    2020-05-29      1.0  2020.0   \n",
       "98       A  2020-05-22  84.980003  5063100.0    2020-09-01      2.0  2020.0   \n",
       "159      A  2020-08-19  97.959999  2830800.0    2020-12-17      3.0  2020.0   \n",
       "\n",
       "                                 content_earnings_call  \n",
       "32   Operator: Good afternoon and welcome to the Ag...  \n",
       "98   Operator: Good afternoon, and welcome to the A...  \n",
       "159  Operator: Good afternoon, and welcome to the A...  "
      ]
     },
     "metadata": {},
     "output_type": "display_data"
    }
   ],
   "source": [
    "df = df.loc[~df['content_earnings_call'].isnull()]\n",
    "df = df.iloc[0:3,]\n",
    "display(df)"
   ]
  },
  {
   "cell_type": "code",
   "execution_count": 6,
   "metadata": {},
   "outputs": [
    {
     "name": "stderr",
     "output_type": "stream",
     "text": [
      "/Users/ericmatamoros/Desktop/llm_earnings_call/llm_earnings_call/interfaces/CFOSearcher.py:119: FutureWarning: Not prepending group keys to the result index of transform-like apply. In the future, the group keys will be included in the index, regardless of whether the applied function returns a like-indexed object.\n",
      "To preserve the previous behavior, use\n",
      "\n",
      "\t>>> .groupby(..., group_keys=False)\n",
      "\n",
      "To adopt the future behavior and silence this warning, use \n",
      "\n",
      "\t>>> .groupby(..., group_keys=True)\n",
      "  df = self._df.groupby(['ticker', 'date']).apply(lambda x: get_cfo_intervention(x, self._earnings_col, 'cfo'))\n"
     ]
    }
   ],
   "source": [
    "cfo = CFOSearcher(df, 'content_earnings_call')\n",
    "cfo.get_cfo_info()\n",
    "df_cfo = cfo.get_full_cfo_interventions()"
   ]
  },
  {
   "cell_type": "code",
   "execution_count": 7,
   "metadata": {},
   "outputs": [
    {
     "data": {
      "text/html": [
       "<div>\n",
       "<style scoped>\n",
       "    .dataframe tbody tr th:only-of-type {\n",
       "        vertical-align: middle;\n",
       "    }\n",
       "\n",
       "    .dataframe tbody tr th {\n",
       "        vertical-align: top;\n",
       "    }\n",
       "\n",
       "    .dataframe thead th {\n",
       "        text-align: right;\n",
       "    }\n",
       "</style>\n",
       "<table border=\"1\" class=\"dataframe\">\n",
       "  <thead>\n",
       "    <tr style=\"text-align: right;\">\n",
       "      <th></th>\n",
       "      <th>ticker</th>\n",
       "      <th>date</th>\n",
       "      <th>close</th>\n",
       "      <th>volume</th>\n",
       "      <th>earnings_date</th>\n",
       "      <th>quarter</th>\n",
       "      <th>year</th>\n",
       "      <th>content_earnings_call</th>\n",
       "      <th>cfo</th>\n",
       "      <th>cfo_interventions</th>\n",
       "    </tr>\n",
       "  </thead>\n",
       "  <tbody>\n",
       "    <tr>\n",
       "      <th>32</th>\n",
       "      <td>A</td>\n",
       "      <td>2020-02-19</td>\n",
       "      <td>85.349998</td>\n",
       "      <td>4741300.0</td>\n",
       "      <td>2020-05-29</td>\n",
       "      <td>1.0</td>\n",
       "      <td>2020.0</td>\n",
       "      <td>Operator: Good afternoon and welcome to the Ag...</td>\n",
       "      <td>Bob McMahon</td>\n",
       "      <td>Bob McMahon: Thank you Mike and good afternoon...</td>\n",
       "    </tr>\n",
       "    <tr>\n",
       "      <th>98</th>\n",
       "      <td>A</td>\n",
       "      <td>2020-05-22</td>\n",
       "      <td>84.980003</td>\n",
       "      <td>5063100.0</td>\n",
       "      <td>2020-09-01</td>\n",
       "      <td>2.0</td>\n",
       "      <td>2020.0</td>\n",
       "      <td>Operator: Good afternoon, and welcome to the A...</td>\n",
       "      <td>Bob McMahon</td>\n",
       "      <td>Bob McMahon: Thank you, Mike, and good afterno...</td>\n",
       "    </tr>\n",
       "    <tr>\n",
       "      <th>159</th>\n",
       "      <td>A</td>\n",
       "      <td>2020-08-19</td>\n",
       "      <td>97.959999</td>\n",
       "      <td>2830800.0</td>\n",
       "      <td>2020-12-17</td>\n",
       "      <td>3.0</td>\n",
       "      <td>2020.0</td>\n",
       "      <td>Operator: Good afternoon, and welcome to the A...</td>\n",
       "      <td>Bob McMahon</td>\n",
       "      <td>Bob McMahon: Thank you, Mike, and good afterno...</td>\n",
       "    </tr>\n",
       "  </tbody>\n",
       "</table>\n",
       "</div>"
      ],
      "text/plain": [
       "    ticker        date      close     volume earnings_date  quarter    year  \\\n",
       "32       A  2020-02-19  85.349998  4741300.0    2020-05-29      1.0  2020.0   \n",
       "98       A  2020-05-22  84.980003  5063100.0    2020-09-01      2.0  2020.0   \n",
       "159      A  2020-08-19  97.959999  2830800.0    2020-12-17      3.0  2020.0   \n",
       "\n",
       "                                 content_earnings_call          cfo  \\\n",
       "32   Operator: Good afternoon and welcome to the Ag...  Bob McMahon   \n",
       "98   Operator: Good afternoon, and welcome to the A...  Bob McMahon   \n",
       "159  Operator: Good afternoon, and welcome to the A...  Bob McMahon   \n",
       "\n",
       "                                     cfo_interventions  \n",
       "32   Bob McMahon: Thank you Mike and good afternoon...  \n",
       "98   Bob McMahon: Thank you, Mike, and good afterno...  \n",
       "159  Bob McMahon: Thank you, Mike, and good afterno...  "
      ]
     },
     "metadata": {},
     "output_type": "display_data"
    }
   ],
   "source": [
    "display(df_cfo)"
   ]
  },
  {
   "attachments": {},
   "cell_type": "markdown",
   "metadata": {},
   "source": [
    "Use Large Language Model to retrieve financial information"
   ]
  },
  {
   "cell_type": "code",
   "execution_count": 9,
   "metadata": {},
   "outputs": [],
   "source": [
    "llm = ChatGPTPrompter(settings.openai_api, 'gpt-3.5-turbo-16k')\n",
    "response = llm.obtain_earnings_call_info(df_cfo.ticker.values[0], df_cfo.cfo_interventions.values[0])"
   ]
  },
  {
   "cell_type": "code",
   "execution_count": null,
   "metadata": {},
   "outputs": [],
   "source": [
    "response"
   ]
  }
 ],
 "metadata": {
  "kernelspec": {
   "display_name": "stocks",
   "language": "python",
   "name": "python3"
  },
  "language_info": {
   "codemirror_mode": {
    "name": "ipython",
    "version": 3
   },
   "file_extension": ".py",
   "mimetype": "text/x-python",
   "name": "python",
   "nbconvert_exporter": "python",
   "pygments_lexer": "ipython3",
   "version": "3.9.16"
  },
  "orig_nbformat": 4
 },
 "nbformat": 4,
 "nbformat_minor": 2
}
